{
 "cells": [
  {
   "cell_type": "code",
   "execution_count": 1,
   "metadata": {},
   "outputs": [
    {
     "name": "stderr",
     "output_type": "stream",
     "text": [
      "/home/chikazoe/anaconda3/lib/python3.6/site-packages/h5py/__init__.py:34: FutureWarning: Conversion of the second argument of issubdtype from `float` to `np.floating` is deprecated. In future, it will be treated as `np.float64 == np.dtype(float).type`.\n",
      "  from ._conv import register_converters as _register_converters\n",
      "Using TensorFlow backend.\n"
     ]
    }
   ],
   "source": [
    "import os\n",
    "import time\n",
    "import glob\n",
    "from dotenv import load_dotenv\n",
    "from datetime import datetime\n",
    "import shutil\n",
    "import numpy as np\n",
    "import pandas as pd\n",
    "import matplotlib.pyplot as plt\n",
    "import IPython.display as ipd\n",
    "import scipy.stats as sp\n",
    "from scipy.stats import spearmanr\n",
    "\n",
    "import tensorflow as tf\n",
    "from keras import backend\n",
    "from keras import optimizers\n",
    "from keras.callbacks import Callback\n",
    "from keras.models import Sequential, Model\n",
    "from keras.layers import Dense, Conv1D, MaxPooling1D, Flatten, Reshape, Dropout, \\\n",
    "                        Input, merge, AtrousConvolution1D, Activation, Conv2D, Multiply, Add\n",
    "from keras.layers.normalization import BatchNormalization\n",
    "from keras.utils import multi_gpu_model\n",
    "from sklearn.decomposition import PCA\n",
    "from IPython.core.debugger import Pdb #Pdb().set_trace()\n",
    "#from hyperdash import Experiment\n",
    "\n",
    "import utils\n",
    "\n",
    "import warnings\n",
    "warnings.filterwarnings('ignore')\n",
    "%matplotlib inline"
   ]
  },
  {
   "cell_type": "code",
   "execution_count": 2,
   "metadata": {
    "collapsed": true
   },
   "outputs": [],
   "source": [
    "DATASET_DIR = './dataset/'\n",
    "RESULT_DIR = './results/'\n",
    "WEIGHT_FILE = 'weights.h5'\n",
    "LOSS_CURVE_IMAGE_FILE = 'losscurve.jpg'\n",
    "SCATTER_PLOT_IMAGE_FILE = 'predict.jpg'\n",
    "CORRELATION_CURVE_IMAGE_FILE = 'correlation_curve.jpg'"
   ]
  },
  {
   "cell_type": "markdown",
   "metadata": {},
   "source": [
    "## Hyperparameter"
   ]
  },
  {
   "cell_type": "code",
   "execution_count": 3,
   "metadata": {
    "collapsed": true
   },
   "outputs": [],
   "source": [
    "BATCH_SIZE = 32\n",
    "EPOCHS = 50\n",
    "LEARNING_RATE=1e-4\n",
    "use_optimizer = 'Adam' #'SGD', 'Adam'\n",
    "model_name = 'AMPFECNN' #'spotify_cnn', 'wavenet', 'AMPFECNN'\n",
    "label_name = 'listens' #'listens',  'interest', 'favorites', 'pca_listen_favorites'\n",
    "use_mfcc = True\n",
    "data_size = 'large' #'small', 'large'"
   ]
  },
  {
   "cell_type": "markdown",
   "metadata": {},
   "source": [
    "## Load Data"
   ]
  },
  {
   "cell_type": "markdown",
   "metadata": {},
   "source": [
    "### Load features"
   ]
  },
  {
   "cell_type": "code",
   "execution_count": 4,
   "metadata": {
    "collapsed": true
   },
   "outputs": [],
   "source": [
    "dotenv_path = os.getcwd()+'/.env'\n",
    "load_dotenv(dotenv_path)\n",
    "if data_size == 'small':\n",
    "    AUDIO_DIR = os.environ.get('AUDIO_DIR_SMALL')\n",
    "elif data_size == 'large':\n",
    "    AUDIO_DIR = os.environ.get('AUDIO_DIR_LARGE')\n",
    "\n",
    "tracks = utils.load('tracks.csv')\n",
    "features = utils.load('features.csv')\n",
    "\n",
    "subset = tracks.index[tracks['set', 'subset'] <= data_size]\n",
    "tracks = tracks.loc[subset]"
   ]
  },
  {
   "cell_type": "code",
   "execution_count": 5,
   "metadata": {
    "collapsed": true
   },
   "outputs": [
    {
     "name": "stdout",
     "output_type": "stream",
     "text": [
      " 84353 training data\n",
      " 10958 validation data\n",
      " 11263 testing data\n"
     ]
    }
   ],
   "source": [
    "train_data_index = tracks.index[tracks['set', 'split'] == 'training']\n",
    "val_data_index = tracks.index[tracks['set', 'split'] == 'validation']\n",
    "test_data_index = tracks.index[tracks['set', 'split'] == 'test']\n",
    "\n",
    "print(' {} training data\\n {} validation data\\n {} testing data'.format(*map(len, [train_data_index, val_data_index, test_data_index])))"
   ]
  },
  {
   "cell_type": "markdown",
   "metadata": {},
   "source": [
    "### Load labels"
   ]
  },
  {
   "cell_type": "code",
   "execution_count": 6,
   "metadata": {
    "collapsed": true
   },
   "outputs": [
    {
     "data": {
      "image/png": "[encoded data removed]",
      "text/plain": [
       "<Figure size 432x288 with 1 Axes>"
      ]
     },
     "metadata": {},
     "output_type": "display_data"
    },
    {
     "data": {
      "text/html": [
       "<div>\n",
       "<style scoped>\n",
       "    .dataframe tbody tr th:only-of-type {\n",
       "        vertical-align: middle;\n",
       "    }\n",
       "\n",
       "    .dataframe tbody tr th {\n",
       "        vertical-align: top;\n",
       "    }\n",
       "\n",
       "    .dataframe thead th {\n",
       "        text-align: right;\n",
       "    }\n",
       "</style>\n",
       "<table border=\"1\" class=\"dataframe\">\n",
       "  <thead>\n",
       "    <tr style=\"text-align: right;\">\n",
       "      <th></th>\n",
       "      <th>listens</th>\n",
       "    </tr>\n",
       "  </thead>\n",
       "  <tbody>\n",
       "    <tr>\n",
       "      <th>count</th>\n",
       "      <td>106573.000000</td>\n",
       "    </tr>\n",
       "    <tr>\n",
       "      <th>mean</th>\n",
       "      <td>2.891231</td>\n",
       "    </tr>\n",
       "    <tr>\n",
       "      <th>std</th>\n",
       "      <td>0.622367</td>\n",
       "    </tr>\n",
       "    <tr>\n",
       "      <th>min</th>\n",
       "      <td>0.000000</td>\n",
       "    </tr>\n",
       "    <tr>\n",
       "      <th>25%</th>\n",
       "      <td>2.465383</td>\n",
       "    </tr>\n",
       "    <tr>\n",
       "      <th>50%</th>\n",
       "      <td>2.883093</td>\n",
       "    </tr>\n",
       "    <tr>\n",
       "      <th>75%</th>\n",
       "      <td>3.304921</td>\n",
       "    </tr>\n",
       "    <tr>\n",
       "      <th>max</th>\n",
       "      <td>5.735001</td>\n",
       "    </tr>\n",
       "  </tbody>\n",
       "</table>\n",
       "</div>"
      ],
      "text/plain": [
       "             listens\n",
       "count  106573.000000\n",
       "mean        2.891231\n",
       "std         0.622367\n",
       "min         0.000000\n",
       "25%         2.465383\n",
       "50%         2.883093\n",
       "75%         3.304921\n",
       "max         5.735001"
      ]
     },
     "metadata": {},
     "output_type": "display_data"
    }
   ],
   "source": [
    "if label_name == 'listens' or label_name == 'interest' or label_name == 'favorites':\n",
    "    labels = tracks['track', label_name]\n",
    "    labels = pd.DataFrame(labels, index=tracks.index)\n",
    "    #listens_log = labels['track'] # logを使用する場合にコメントアウトする\n",
    "    labels = labels[labels['track'][label_name] != 0] # not-logの場合にコメントアウトする\n",
    "    listens_log = np.log10(labels['track'][label_name].values) # not-logの場合にコメントアウトする\n",
    "    plt.hist(listens_log) # not-logの場合にコメントアウトする\n",
    "    plt.show() # not-logの場合にコメントアウトする\n",
    "    labels_log = pd.DataFrame(listens_log, index=labels.index, columns=[label_name])\n",
    "    ipd.display(labels_log.describe())\n",
    "    \n",
    "    if label_name == 'favorites':\n",
    "        train_data_index_new = []\n",
    "        for data in train_data_index:\n",
    "            if data in labels_log.index:\n",
    "                train_data_index_new.append(data)\n",
    "        val_data_index_new = []\n",
    "        for data in val_data_index:\n",
    "            if data in labels_log.index:\n",
    "                val_data_index_new.append(data)\n",
    "        test_data_index_new = []\n",
    "        for data in test_data_index:\n",
    "            if data in labels_log.index:\n",
    "                test_data_index_new.append(data)\n",
    "\n",
    "        train_data_index = pd.Int64Index(train_data_index_new)\n",
    "        val_data_index = pd.Int64Index(val_data_index_new)\n",
    "        test_data_index = pd.Int64Index(test_data_index_new)\n",
    "        print(' {} training data\\n {} validation data\\n {} testing data'.format(*map(len, [train_data_index, val_data_index, test_data_index])))\n",
    "\n",
    "elif label_name == 'PCAlistenfavorites':\n",
    "    weights = tracks['track']['listens']\n",
    "    heights = tracks['track']['favorites']\n",
    "    weights_zscore = sp.stats.zscore(weights)\n",
    "    heights_zscore = sp.stats.zscore(heights)\n",
    "    pca = PCA(n_components = 1)\n",
    "    a = pca.fit_transform(np.transpose(np.array([weights_zscore, heights_zscore])))\n",
    "    plt.hist(a,bins=100)\n",
    "    plt.show()\n",
    "    labels_log = pd.DataFrame(a, index=weights.index, columns=[label_name])\n",
    "    ipd.display(labels_log.describe())"
   ]
  },
  {
   "cell_type": "markdown",
   "metadata": {},
   "source": [
    "### Load input data"
   ]
  },
  {
   "cell_type": "code",
   "execution_count": 7,
   "metadata": {},
   "outputs": [
    {
     "name": "stdout",
     "output_type": "stream",
     "text": [
      " 81363 training data\n",
      " 10676 validation data\n",
      " 10922 testing data\n"
     ]
    }
   ],
   "source": [
    "x_train = np.load(DATASET_DIR+data_size+'/train_mfcc.npy')\n",
    "x_val = np.load(DATASET_DIR+data_size+'/val_mfcc.npy')\n",
    "x_test = np.load(DATASET_DIR+data_size+'/test_mfcc.npy')\n",
    "train_subscript = np.load(DATASET_DIR+data_size+'/train_num.npy')\n",
    "val_subscript = np.load(DATASET_DIR+data_size+'/val_num.npy')\n",
    "test_subscript = np.load(DATASET_DIR+data_size+'/test_num.npy')\n",
    "y_train = labels_log.loc[train_data_index[train_subscript]].values.flatten()\n",
    "y_val = labels_log.loc[val_data_index[val_subscript]].values.flatten()\n",
    "y_test = labels_log.loc[test_data_index[test_subscript]].values.flatten()\n",
    "print(' {} training data\\n {} validation data\\n {} testing data'.format(*map(len, [y_train, y_val, y_test])))"
   ]
  },
  {
   "cell_type": "code",
   "execution_count": null,
   "metadata": {
    "collapsed": true
   },
   "outputs": [],
   "source": []
  },
  {
   "cell_type": "code",
   "execution_count": null,
   "metadata": {
    "collapsed": true
   },
   "outputs": [],
   "source": []
  },
  {
   "cell_type": "code",
   "execution_count": null,
   "metadata": {
    "collapsed": true
   },
   "outputs": [],
   "source": []
  },
  {
   "cell_type": "markdown",
   "metadata": {},
   "source": [
    "## Design model"
   ]
  },
  {
   "cell_type": "markdown",
   "metadata": {},
   "source": [
    "#### Spotify CNN\n",
    "* Architecture: [End-to-end learning for music audio](http://www.mirlab.org/conference_papers/International_Conference/ICASSP%202014/papers/p7014-dieleman.pdf), Sander Dieleman, Benjamin Schrauwen.\n",
    "* Missing: track segmentation and class averaging (majority voting)\n",
    "* Compared with log-scaled mel-spectrograms instead of strided convolution as first layer.\n",
    "* Larger net: http://benanne.github.io/2014/08/05/spotify-cnns.html"
   ]
  },
  {
   "cell_type": "code",
   "execution_count": 8,
   "metadata": {
    "collapsed": true
   },
   "outputs": [],
   "source": [
    "def design_spotify_model():\n",
    "    backend.clear_session()\n",
    "    \n",
    "    # Original model\n",
    "    model = Sequential()\n",
    "    model.add(Reshape((-1, 1), input_shape=loader.shape))\n",
    "    model.add(Conv1D(128, 512, strides=512, activation='relu'))\n",
    "\n",
    "    model.add(Conv1D(32, 8, activation='relu'))\n",
    "    model.add(MaxPooling1D(4))\n",
    "\n",
    "    model.add(Conv1D(32, 8, activation='relu'))\n",
    "    model.add(MaxPooling1D(4))\n",
    "\n",
    "    model.add(Flatten())\n",
    "    model.add(Dense(100, activation='relu'))\n",
    "    #model.add(Dense(1))\n",
    "\n",
    "    # Add layer\n",
    "    model.add(Dense(100, activation='relu'))\n",
    "    model.add(BatchNormalization())\n",
    "    model.add(Dropout(0.5))\n",
    "    model.add(Dense(100, activation='relu'))\n",
    "    model.add(BatchNormalization())\n",
    "    model.add(Dropout(0.5))\n",
    "    model.add(Dense(1))\n",
    "\n",
    "    # Freeze layer\n",
    "    print('Freeze layer')\n",
    "    for i,layer in enumerate(model.layers[:8]):\n",
    "        print(i,':',layer.name)\n",
    "        layer.trainable = False\n",
    "        \n",
    "    model.summary()\n",
    "    \n",
    "    return model"
   ]
  },
  {
   "cell_type": "markdown",
   "metadata": {},
   "source": [
    "#### Wavenet\n",
    "[keras-wavenet](https://github.com/usernaamee/keras-wavenet)"
   ]
  },
  {
   "cell_type": "code",
   "execution_count": 9,
   "metadata": {
    "collapsed": true
   },
   "outputs": [],
   "source": [
    "def wavenetBlock(n_atrous_filters, atrous_filter_size, atrous_rate):\n",
    "    def f(input_):\n",
    "        residual = input_\n",
    "        tanh_out = AtrousConvolution1D(n_atrous_filters, atrous_filter_size,\n",
    "                                       atrous_rate=atrous_rate,\n",
    "                                       border_mode='same',\n",
    "                                       activation='tanh')(input_)\n",
    "        sigmoid_out = AtrousConvolution1D(n_atrous_filters, atrous_filter_size,\n",
    "                                          atrous_rate=atrous_rate,\n",
    "                                          border_mode='same',\n",
    "                                          activation='sigmoid')(input_)\n",
    "        merged = merge([tanh_out, sigmoid_out], mode='mul')\n",
    "        skip_out = Conv1D(1, 1, activation='relu', border_mode='same')(merged)\n",
    "        out = merge([skip_out, residual], mode='sum')\n",
    "        return out, skip_out\n",
    "    return f"
   ]
  },
  {
   "cell_type": "code",
   "execution_count": 10,
   "metadata": {
    "collapsed": true
   },
   "outputs": [],
   "source": [
    "# simple-generative-model\n",
    "def get_basic_generative_model():\n",
    "    input_ = Input(shape=(loader.shape[0], 1))\n",
    "    A, B = wavenetBlock(64, 2, 2)(input_)\n",
    "    skip_connections = [B]\n",
    "    for i in range(20):\n",
    "        A, B = wavenetBlock(64, 2, 2**((i+2)%9))(A)\n",
    "        skip_connections.append(B)\n",
    "    net = merge(skip_connections, mode='sum')\n",
    "    net = Activation('relu')(net)\n",
    "    net = Conv1D(1, 1, activation='relu')(net)\n",
    "    net = Conv1D(1, 1)(net)\n",
    "    net = Flatten()(net)\n",
    "    net = Dense(256, activation='relu')(net)\n",
    "    \n",
    "    net = Dense(256, activation='relu')(net)\n",
    "    net = BatchNormalization()(net)\n",
    "    net = Dropout(0.5)(net)\n",
    "    net = Dense(256, activation='relu')(net)\n",
    "    net = BatchNormalization()(net)\n",
    "    net = Dropout(0.5)(net)\n",
    "    net = Dense(1)(net)\n",
    "    \n",
    "    model = Model(input=input_, output=net)\n",
    "\n",
    "    for i,layer in enumerate(model.layers[:111]):\n",
    "        print(i,':',layer.name)\n",
    "        layer.trainable = False\n",
    "    \n",
    "    model.summary()\n",
    "    return model"
   ]
  },
  {
   "cell_type": "code",
   "execution_count": 11,
   "metadata": {
    "collapsed": true
   },
   "outputs": [],
   "source": [
    "# simple-generative-model-regressor\n",
    "def get_basic_generative_model():\n",
    "    input_size = loader.shape[0]\n",
    "    input_ = Input(shape=(1, input_size, 1))\n",
    "    l1a, l1b = wavenetBlock(10, 5, 2)(input_) # ValueError: Input 0 is incompatible with layer conv1d_71: expected ndim=3, found ndim=4\n",
    "    l2a, l2b = wavenetBlock(1, 2, 4)(l1a)\n",
    "    l3a, l3b = wavenetBlock(1, 2, 8)(l2a)\n",
    "    l4a, l4b = wavenetBlock(1, 2, 16)(l3a)\n",
    "    l5a, l5b = wavenetBlock(1, 2, 3)(l4a)\n",
    "    l6 = merge([l1b, l2b, l3b, l4b, l5b], mode='sum')\n",
    "    l7 = Lambda(relu)(l6)\n",
    "    l8 = Convolution2D(1, 1, 1, activation='relu')(l7)\n",
    "    l9 = Convolution2D(1, 1, 1)(l8)\n",
    "    l10 = Flatten()(l9)\n",
    "    #l11 = Dense(1, activation='tanh')(l10)\n",
    "    \n",
    "    net = Dense(256, activation='relu')(net)\n",
    "    net = BatchNormalization()(net)\n",
    "    net = Dropout(0.5)(net)\n",
    "    net = Dense(256, activation='relu')(net)\n",
    "    net = BatchNormalization()(net)\n",
    "    net = Dropout(0.5)(net)\n",
    "    net = Dense(1)(net)\n",
    "    \n",
    "    model = Model(input=input_, output=l11)\n",
    "    \n",
    "    model.summary()\n",
    "    return model"
   ]
  },
  {
   "cell_type": "markdown",
   "metadata": {},
   "source": [
    "[sudeepkatakol/Wavenet](https://github.com/sudeepkatakol/Wavenet)"
   ]
  },
  {
   "cell_type": "code",
   "execution_count": 12,
   "metadata": {
    "collapsed": true
   },
   "outputs": [],
   "source": [
    "def createWavenet(input_shape):\n",
    "    dilation_channels = 64\n",
    "    causal_channels = 32\n",
    "    dilation_kernel = 2\n",
    "\n",
    "    def residual_block(X, dilation_rate):\n",
    "        F = Conv1D(dilation_channels, dilation_kernel, padding='causal', dilation_rate=dilation_rate)(X)\n",
    "        G = Conv1D(dilation_channels, dilation_kernel, padding='causal', dilation_rate=dilation_rate)(X)\n",
    "        F = Activation('tanh')(F)\n",
    "        G = Activation('sigmoid')(G)\n",
    "        Y = Multiply()([F, G])\n",
    "        return Y\n",
    "\n",
    "    causal_kernel = 2\n",
    "    causal_channels = 32\n",
    "    dilation_rate = 2\n",
    "    quantization_channels = 256\n",
    "    \n",
    "    X_input = Input(input_shape)\n",
    "    X = Conv1D(causal_channels, causal_kernel, padding='causal', dilation_rate=1)(X_input)\n",
    "    Y = residual_block(X, 1)\n",
    "    S0 = Conv1D(dilation_channels, 1, padding=\"same\")(Y)\n",
    "    Y = Conv1D(causal_channels, 1, padding=\"same\")(Y)\n",
    "    X = Add()([X, Y])\n",
    "    Y = residual_block(X, 2)\n",
    "    S1 = Conv1D(dilation_channels, 1, padding=\"same\")(Y)\n",
    "    Y = Conv1D(causal_channels, 1, padding=\"same\")(Y)\n",
    "    X = Add()([X, Y])\n",
    "    Y = residual_block(X, 4)\n",
    "    S2 = Conv1D(dilation_channels, 1, padding=\"same\")(Y)\n",
    "    Y = Conv1D(causal_channels, 1, padding=\"same\")(Y)\n",
    "    X = Add()([X, Y])\n",
    "    Y = residual_block(X, 8)\n",
    "    S3 = Conv1D(dilation_channels, 1, padding=\"same\")(Y)\n",
    "    Y = Conv1D(causal_channels, 1, padding=\"same\")(Y)\n",
    "    X = Add()([X, Y])\n",
    "    Y = residual_block(X, 16)\n",
    "    S4 = Conv1D(dilation_channels, 1, padding=\"same\")(Y)\n",
    "    Y = Conv1D(causal_channels, 1, padding=\"same\")(Y)\n",
    "    X = Add()([X, Y])\n",
    "    Y = residual_block(X, 32)\n",
    "    S5 = Conv1D(dilation_channels, 1, padding=\"same\")(Y)\n",
    "    Y = Conv1D(causal_channels, 1, padding=\"same\")(Y)\n",
    "    X = Add()([X, Y])\n",
    "    Y = residual_block(X, 64)\n",
    "    S6 = Conv1D(dilation_channels, 1, padding=\"same\")(Y)\n",
    "    Y = Conv1D(causal_channels, 1, padding=\"same\")(Y)\n",
    "    X = Add()([X, Y])\n",
    "    Y = residual_block(X, 128)\n",
    "    S7 = Conv1D(dilation_channels, 1, padding=\"same\")(Y)\n",
    "    Y = Conv1D(causal_channels, 1, padding=\"same\")(Y)\n",
    "    X = Add()([X, Y])\n",
    "    Y = residual_block(X, 256)\n",
    "    S8 = Conv1D(dilation_channels, 1, padding=\"same\")(Y)\n",
    "    Y = Conv1D(causal_channels, 1, padding=\"same\")(Y)\n",
    "    X = Add()([X, Y])\n",
    "    Y = residual_block(X, 512)\n",
    "    S9 = Conv1D(dilation_channels, 1, padding=\"same\")(Y)\n",
    "    S = Add()([S0, S1, S2, S3, S4, S5, S6, S7, S8, S9])\n",
    "    X = Activation('relu')(S)\n",
    "    X = Conv1D(128, 1, padding=\"same\")(X)\n",
    "    X = Activation('relu')(X)\n",
    "    X = Conv1D(256, 1, padding=\"same\")(X)\n",
    "    X = Activation('softmax')(X)\n",
    "    \n",
    "    model = Model(input=X_input, output=X)\n",
    "    \n",
    "    model.summary()\n",
    "    return model"
   ]
  },
  {
   "cell_type": "markdown",
   "metadata": {},
   "source": [
    "#### ConvNet on MFCC\n",
    "\n",
    "* Architecture: [Automatic Musical Pattern Feature Extraction Using Convolutional Neural Network](http://www.iaeng.org/publication/IMECS2010/IMECS2010_pp546-550.pdf), Tom LH. Li, Antoni B. Chan and Andy HW. Chun\n",
    "* Missing: track segmentation and majority voting.\n",
    "* Best seen: 17.6%"
   ]
  },
  {
   "cell_type": "code",
   "execution_count": 13,
   "metadata": {
    "collapsed": true
   },
   "outputs": [],
   "source": [
    "def design_AMPFECNN_model():\n",
    "    backend.clear_session()\n",
    "\n",
    "    # Original model\n",
    "    model = Sequential()\n",
    "    model.add(Reshape((*x_train[0].shape, 1),  input_shape=x_train[0].shape))\n",
    "    model.add(Conv2D(3, 13, 10, subsample=(1, 4),kernel_initializer='he_normal'))\n",
    "    model.add(Activation('relu'))\n",
    "    model.add(Conv2D(15, 1, 10, subsample=(1, 4),kernel_initializer='he_normal'))\n",
    "    model.add(Activation('relu'))\n",
    "    model.add(Conv2D(65, 1, 10, subsample=(1, 4),kernel_initializer='he_normal'))\n",
    "    model.add(Activation('relu'))\n",
    "    model.add(Flatten())\n",
    "    #model.add(Dense(labels_onehot.shape[1]))\n",
    "\n",
    "    # Add layer\n",
    "    model.add(Dense(1000, activation='relu',kernel_initializer='he_normal'))\n",
    "    model.add(BatchNormalization())\n",
    "    model.add(Dropout(0.5))\n",
    "    model.add(Dense(500, activation='relu',kernel_initializer='he_normal'))\n",
    "    model.add(BatchNormalization())\n",
    "    model.add(Dropout(0.5))\n",
    "    model.add(Dense(1,kernel_initializer='he_normal'))\n",
    "    \n",
    "    for i,layer in enumerate(model.layers[:8]):\n",
    "        print(i,':',layer.name)\n",
    "        layer.trainable = False\n",
    "    \n",
    "    model.summary()\n",
    "    \n",
    "    return model"
   ]
  },
  {
   "cell_type": "code",
   "execution_count": 14,
   "metadata": {
    "collapsed": true
   },
   "outputs": [
    {
     "name": "stdout",
     "output_type": "stream",
     "text": [
      "0 : reshape_1\n",
      "1 : conv2d_1\n",
      "2 : activation_1\n",
      "3 : conv2d_2\n",
      "4 : activation_2\n",
      "5 : conv2d_3\n",
      "6 : activation_3\n",
      "7 : flatten_1\n",
      "_________________________________________________________________\n",
      "Layer (type)                 Output Shape              Param #   \n",
      "=================================================================\n",
      "reshape_1 (Reshape)          (None, 13, 2582, 1)       0         \n",
      "_________________________________________________________________\n",
      "conv2d_1 (Conv2D)            (None, 1, 644, 3)         393       \n",
      "_________________________________________________________________\n",
      "activation_1 (Activation)    (None, 1, 644, 3)         0         \n",
      "_________________________________________________________________\n",
      "conv2d_2 (Conv2D)            (None, 1, 159, 15)        465       \n",
      "_________________________________________________________________\n",
      "activation_2 (Activation)    (None, 1, 159, 15)        0         \n",
      "_________________________________________________________________\n",
      "conv2d_3 (Conv2D)            (None, 1, 38, 65)         9815      \n",
      "_________________________________________________________________\n",
      "activation_3 (Activation)    (None, 1, 38, 65)         0         \n",
      "_________________________________________________________________\n",
      "flatten_1 (Flatten)          (None, 2470)              0         \n",
      "_________________________________________________________________\n",
      "dense_1 (Dense)              (None, 1000)              2471000   \n",
      "_________________________________________________________________\n",
      "batch_normalization_1 (Batch (None, 1000)              4000      \n",
      "_________________________________________________________________\n",
      "dropout_1 (Dropout)          (None, 1000)              0         \n",
      "_________________________________________________________________\n",
      "dense_2 (Dense)              (None, 500)               500500    \n",
      "_________________________________________________________________\n",
      "batch_normalization_2 (Batch (None, 500)               2000      \n",
      "_________________________________________________________________\n",
      "dropout_2 (Dropout)          (None, 500)               0         \n",
      "_________________________________________________________________\n",
      "dense_3 (Dense)              (None, 1)                 501       \n",
      "=================================================================\n",
      "Total params: 2,988,674\n",
      "Trainable params: 2,975,001\n",
      "Non-trainable params: 13,673\n",
      "_________________________________________________________________\n"
     ]
    }
   ],
   "source": [
    "if model_name == 'spotify_cnn':\n",
    "    model = design_spotify_model()\n",
    "elif model_name == 'wavenet':\n",
    "    #model = get_basic_generative_model() # in bug 6/8\n",
    "    model = createWavenet((loader.shape[0], 256)) # in bug 6/20\n",
    "elif model_name == 'AMPFECNN':\n",
    "    model = design_AMPFECNN_model()"
   ]
  },
  {
   "cell_type": "code",
   "execution_count": 15,
   "metadata": {
    "collapsed": true
   },
   "outputs": [],
   "source": [
    "if use_optimizer == 'SGD':\n",
    "    model.compile(optimizer=optimizers.SGD(lr=LEARNING_RATE, momentum=0.9, nesterov=True), loss='mean_squared_error')\n",
    "elif use_optimizer == 'Adam':\n",
    "    model.compile(optimizer=optimizers.Adam(lr=LEARNING_RATE), loss='mean_squared_error')"
   ]
  },
  {
   "cell_type": "code",
   "execution_count": null,
   "metadata": {
    "collapsed": true
   },
   "outputs": [],
   "source": []
  },
  {
   "cell_type": "code",
   "execution_count": null,
   "metadata": {
    "collapsed": true
   },
   "outputs": [],
   "source": []
  },
  {
   "cell_type": "markdown",
   "metadata": {},
   "source": [
    "## Train"
   ]
  },
  {
   "cell_type": "code",
   "execution_count": 16,
   "metadata": {
    "collapsed": true
   },
   "outputs": [],
   "source": [
    "class Hyperdash(Callback):\n",
    "    def __init__(self, entries, exp):\n",
    "        super(Hyperdash, self).__init__()\n",
    "        self.entries = entries\n",
    "        self.exp = exp\n",
    "\n",
    "    def on_epoch_end(self, epoch, logs=None):\n",
    "        for entrie in self.entries:\n",
    "            log = logs.get(entrie)\n",
    "            if log is not None:\n",
    "                self.exp.metric(entrie, log)"
   ]
  },
  {
   "cell_type": "code",
   "execution_count": 17,
   "metadata": {
    "collapsed": true
   },
   "outputs": [],
   "source": [
    "def create_loss_curve(train_loss,val_loss):\n",
    "    # Set background color or white\n",
    "    fig = plt.figure()\n",
    "    fig.patch.set_facecolor('white')\n",
    "\n",
    "    # Plot loss curve\n",
    "    plt.plot(train_loss, \"o-\", label=\"train_loss\", )\n",
    "    plt.plot(val_loss, \"o-\", label=\"val_loss\")\n",
    "    now = datetime.now()\n",
    "    plt.title(now.strftime('%Y-%m-%d %H:%M ')+' loss curve')\n",
    "    plt.xlabel('epoch')\n",
    "    plt.ylabel('loss')\n",
    "    plt.xlim(0)\n",
    "    plt.ylim(0, max(max(train_loss), max(val_loss)))\n",
    "    plt.legend(loc='upper right')\n",
    "    plt.grid()\n",
    "    plt.savefig(RESULT_DIR + LOSS_CURVE_IMAGE_FILE, dpi=100)\n",
    "    plt.show()"
   ]
  },
  {
   "cell_type": "code",
   "execution_count": 18,
   "metadata": {
    "collapsed": true
   },
   "outputs": [],
   "source": [
    "def create_correlationcoefficient_curve(train_corr_list, val_corr_list, last_epoch):\n",
    "    # Plot correlation curve\n",
    "    fig = plt.figure()\n",
    "    fig.patch.set_facecolor('white')\n",
    "    plt.plot(range(last_epoch), train_corr_list, 'bo-', label='train_correlation')\n",
    "    plt.plot(range(last_epoch), val_corr_list, 'yo-', label='val_correlation')\n",
    "    now = datetime.now()\n",
    "    plt.title(now.strftime('%Y-%m-%d %H:%M ') + ' correlation curve ')\n",
    "    plt.xlabel('epoch')\n",
    "    plt.ylabel('correlation coefficient')\n",
    "    plt.xlim(0)\n",
    "    plt.yticks(np.arange(-0.5, 1.0, 0.1))\n",
    "    plt.legend(loc='lower left')\n",
    "    plt.grid()\n",
    "    plt.savefig(RESULT_DIR + CORRELATION_CURVE_IMAGE_FILE, dpi=100)\n",
    "    plt.show()"
   ]
  },
  {
   "cell_type": "code",
   "execution_count": 19,
   "metadata": {
    "collapsed": true
   },
   "outputs": [],
   "source": [
    "def create_scatter_plot(correlation_coefficient, predict_value, true_value, title):\n",
    "    # Set background color to white\n",
    "    fig = plt.figure()\n",
    "    fig.patch.set_facecolor('white')\n",
    "\n",
    "    # Plot predict_value and true_value\n",
    "    plt.plot(predict_value, true_value, \"o\")\n",
    "    now = datetime.now()\n",
    "    plt.title(now.strftime('%Y-%m-%d %H:%M ')+title+' r='+str(correlation_coefficient)[:6])\n",
    "    plt.xlabel('predict value')\n",
    "    plt.ylabel('true value')\n",
    "    plt.xlim(min(predict_value), max(predict_value))\n",
    "    plt.ylim(min(true_value), max(true_value))\n",
    "    plt.savefig(RESULT_DIR+title+SCATTER_PLOT_IMAGE_FILE, dpi=100)\n",
    "    plt.show()"
   ]
  },
  {
   "cell_type": "code",
   "execution_count": 20,
   "metadata": {
    "collapsed": true
   },
   "outputs": [
    {
     "name": "stdout",
     "output_type": "stream",
     "text": [
      "All Epochs: 50\n",
      "Train on 81363 samples, validate on 10676 samples\n",
      "Epoch 1/1\n",
      "81363/81363 [==============================] - 61s 746us/step - loss: 3.5991 - val_loss: 0.5209\n",
      "81363/81363 [==============================] - 246s 3ms/step\n",
      "10676/10676 [==============================] - 32s 3ms/step\n",
      "time:5.66m - train_corr:0.0341 - val_corr:0.0390\n",
      "Train on 81363 samples, validate on 10676 samples\n",
      "Epoch 2/2\n",
      "81363/81363 [==============================] - 62s 757us/step - loss: 1.1302 - val_loss: 0.4431\n",
      "81363/81363 [==============================] - 233s 3ms/step\n",
      "10676/10676 [==============================] - 31s 3ms/step\n",
      "time:5.44m - train_corr:0.0591 - val_corr:0.0618\n",
      "Train on 81363 samples, validate on 10676 samples\n",
      "Epoch 3/3\n",
      "81363/81363 [==============================] - 58s 712us/step - loss: 0.7314 - val_loss: 0.4210\n",
      "81363/81363 [==============================] - 222s 3ms/step\n",
      "10676/10676 [==============================] - 30s 3ms/step\n",
      "time:5.16m - train_corr:0.0169 - val_corr:0.0029\n",
      "Train on 81363 samples, validate on 10676 samples\n",
      "Epoch 4/4\n",
      "81363/81363 [==============================] - 55s 671us/step - loss: 0.5738 - val_loss: 0.4101\n",
      "81363/81363 [==============================] - 222s 3ms/step\n",
      "10676/10676 [==============================] - 30s 3ms/step\n",
      "time:5.11m - train_corr:0.0621 - val_corr:0.0657\n",
      "Train on 81363 samples, validate on 10676 samples\n",
      "Epoch 5/5\n",
      "81363/81363 [==============================] - 54s 665us/step - loss: 0.5047 - val_loss: 0.4158\n",
      "81363/81363 [==============================] - 218s 3ms/step\n",
      "10676/10676 [==============================] - 29s 3ms/step\n",
      "time:5.04m - train_corr:0.0863 - val_corr:0.0916\n",
      "Train on 81363 samples, validate on 10676 samples\n",
      "Epoch 6/6\n",
      "81363/81363 [==============================] - 54s 667us/step - loss: 0.4756 - val_loss: 0.4171\n",
      "81363/81363 [==============================] - 218s 3ms/step\n",
      "10676/10676 [==============================] - 30s 3ms/step\n",
      "time:5.04m - train_corr:0.0223 - val_corr:-0.0264\n",
      "Train on 81363 samples, validate on 10676 samples\n",
      "Epoch 7/7\n",
      "81363/81363 [==============================] - 54s 670us/step - loss: 0.4538 - val_loss: 0.4139\n",
      "81363/81363 [==============================] - 219s 3ms/step\n",
      "10676/10676 [==============================] - 30s 3ms/step\n",
      "time:5.05m - train_corr:0.1023 - val_corr:0.0772\n",
      "Train on 81363 samples, validate on 10676 samples\n",
      "Epoch 8/8\n",
      "81363/81363 [==============================] - 55s 680us/step - loss: 0.4413 - val_loss: 0.4187\n",
      "81363/81363 [==============================] - 216s 3ms/step\n",
      "10676/10676 [==============================] - 29s 3ms/step\n",
      "time:5.01m - train_corr:0.0277 - val_corr:-0.0365\n",
      "Train on 81363 samples, validate on 10676 samples\n",
      "Epoch 9/9\n",
      "81363/81363 [==============================] - 56s 682us/step - loss: 0.4306 - val_loss: 0.4023\n",
      "81363/81363 [==============================] - 216s 3ms/step\n",
      "10676/10676 [==============================] - 29s 3ms/step\n",
      "time:5.02m - train_corr:0.1027 - val_corr:0.0939\n",
      "Train on 81363 samples, validate on 10676 samples\n",
      "Epoch 10/10\n",
      "81363/81363 [==============================] - 54s 663us/step - loss: 0.4230 - val_loss: 0.4036\n",
      "81363/81363 [==============================] - 216s 3ms/step\n",
      "10676/10676 [==============================] - 29s 3ms/step\n",
      "time:4.99m - train_corr:0.1140 - val_corr:0.1015\n",
      "Train on 81363 samples, validate on 10676 samples\n",
      "Epoch 11/11\n",
      "81363/81363 [==============================] - 55s 674us/step - loss: 0.4200 - val_loss: 0.4107\n",
      "81363/81363 [==============================] - 218s 3ms/step\n",
      "10676/10676 [==============================] - 30s 3ms/step\n",
      "time:5.05m - train_corr:0.0897 - val_corr:0.0744\n",
      "Train on 81363 samples, validate on 10676 samples\n",
      "Epoch 12/12\n",
      "81363/81363 [==============================] - 53s 656us/step - loss: 0.4144 - val_loss: 0.4137\n",
      "81363/81363 [==============================] - 216s 3ms/step\n",
      "10676/10676 [==============================] - 29s 3ms/step\n",
      "time:4.96m - train_corr:0.0992 - val_corr:0.0806\n",
      "Train on 81363 samples, validate on 10676 samples\n",
      "Epoch 13/13\n",
      "81363/81363 [==============================] - 53s 650us/step - loss: 0.4113 - val_loss: 0.4118\n",
      "81363/81363 [==============================] - 218s 3ms/step\n",
      "10676/10676 [==============================] - 31s 3ms/step\n",
      "time:5.03m - train_corr:0.1033 - val_corr:0.0840\n",
      "Train on 81363 samples, validate on 10676 samples\n",
      "Epoch 14/14\n",
      "81363/81363 [==============================] - 53s 655us/step - loss: 0.4090 - val_loss: 0.4360\n",
      "81363/81363 [==============================] - 217s 3ms/step\n",
      "10676/10676 [==============================] - 30s 3ms/step\n",
      "time:5.00m - train_corr:0.0854 - val_corr:0.0210\n",
      "Train on 81363 samples, validate on 10676 samples\n",
      "Epoch 15/15\n",
      "81363/81363 [==============================] - 54s 668us/step - loss: 0.4077 - val_loss: 0.4080\n",
      "81363/81363 [==============================] - 216s 3ms/step\n",
      "10676/10676 [==============================] - 29s 3ms/step\n",
      "time:4.99m - train_corr:0.1247 - val_corr:0.0757\n",
      "Train on 81363 samples, validate on 10676 samples\n",
      "Epoch 16/16\n",
      "81363/81363 [==============================] - 54s 665us/step - loss: 0.4042 - val_loss: 0.4565\n",
      "81363/81363 [==============================] - 214s 3ms/step\n",
      "10676/10676 [==============================] - 29s 3ms/step\n",
      "time:4.96m - train_corr:0.0752 - val_corr:0.0029\n",
      "Train on 81363 samples, validate on 10676 samples\n",
      "Epoch 17/17\n",
      "81363/81363 [==============================] - 54s 670us/step - loss: 0.4018 - val_loss: 0.4118\n",
      "81363/81363 [==============================] - 218s 3ms/step\n",
      "10676/10676 [==============================] - 30s 3ms/step\n",
      "time:5.04m - train_corr:0.1294 - val_corr:0.0960\n",
      "Train on 81363 samples, validate on 10676 samples\n",
      "Epoch 18/18\n",
      "81363/81363 [==============================] - 56s 684us/step - loss: 0.4004 - val_loss: 0.4227\n",
      "81363/81363 [==============================] - 218s 3ms/step\n",
      "10676/10676 [==============================] - 29s 3ms/step\n",
      "time:5.04m - train_corr:0.1396 - val_corr:0.0659\n",
      "Train on 81363 samples, validate on 10676 samples\n",
      "Epoch 19/19\n",
      "81363/81363 [==============================] - 55s 672us/step - loss: 0.3990 - val_loss: 0.4187\n",
      "81363/81363 [==============================] - 216s 3ms/step\n",
      "10676/10676 [==============================] - 29s 3ms/step\n",
      "time:5.00m - train_corr:0.1171 - val_corr:0.0367\n",
      "Train on 81363 samples, validate on 10676 samples\n",
      "Epoch 20/20\n",
      "81363/81363 [==============================] - 56s 687us/step - loss: 0.3975 - val_loss: 0.4111\n",
      "81363/81363 [==============================] - 216s 3ms/step\n",
      "10676/10676 [==============================] - 29s 3ms/step\n",
      "time:5.01m - train_corr:0.1441 - val_corr:0.0664\n",
      "Train on 81363 samples, validate on 10676 samples\n",
      "Epoch 21/21\n",
      "81363/81363 [==============================] - 55s 679us/step - loss: 0.3960 - val_loss: 0.4064\n",
      "81363/81363 [==============================] - 217s 3ms/step\n",
      "10676/10676 [==============================] - 29s 3ms/step\n",
      "time:5.03m - train_corr:0.1210 - val_corr:0.0894\n",
      "Train on 81363 samples, validate on 10676 samples\n",
      "Epoch 22/22\n",
      "81363/81363 [==============================] - 54s 664us/step - loss: 0.3969 - val_loss: 0.4234\n",
      "81363/81363 [==============================] - 219s 3ms/step\n",
      "10676/10676 [==============================] - 30s 3ms/step\n",
      "time:5.05m - train_corr:0.1371 - val_corr:0.0918\n",
      "Train on 81363 samples, validate on 10676 samples\n",
      "Epoch 23/23\n",
      "81363/81363 [==============================] - 55s 675us/step - loss: 0.3948 - val_loss: 0.4118\n",
      "81363/81363 [==============================] - 218s 3ms/step\n",
      "10676/10676 [==============================] - 30s 3ms/step\n",
      "time:5.04m - train_corr:0.1514 - val_corr:0.0634\n",
      "Train on 81363 samples, validate on 10676 samples\n",
      "Epoch 24/24\n",
      "81363/81363 [==============================] - 55s 680us/step - loss: 0.3947 - val_loss: 0.4154\n",
      "81363/81363 [==============================] - 220s 3ms/step\n",
      "10676/10676 [==============================] - 30s 3ms/step\n",
      "time:5.09m - train_corr:0.1229 - val_corr:0.0774\n",
      "Train on 81363 samples, validate on 10676 samples\n",
      "Epoch 25/25\n",
      "81363/81363 [==============================] - 53s 655us/step - loss: 0.3931 - val_loss: 0.4201\n",
      "81363/81363 [==============================] - 218s 3ms/step\n",
      "10676/10676 [==============================] - 29s 3ms/step\n",
      "time:5.00m - train_corr:0.1179 - val_corr:0.0533\n",
      "Train on 81363 samples, validate on 10676 samples\n",
      "Epoch 26/26\n",
      "81363/81363 [==============================] - 56s 683us/step - loss: 0.3925 - val_loss: 0.4173\n",
      "81363/81363 [==============================] - 218s 3ms/step\n",
      "10676/10676 [==============================] - 30s 3ms/step\n",
      "time:5.05m - train_corr:0.1121 - val_corr:0.0840\n",
      "Train on 81363 samples, validate on 10676 samples\n",
      "Epoch 27/27\n",
      "81363/81363 [==============================] - 54s 667us/step - loss: 0.3914 - val_loss: 0.4381\n",
      "81363/81363 [==============================] - 217s 3ms/step\n",
      "10676/10676 [==============================] - 29s 3ms/step\n",
      "time:5.02m - train_corr:0.1428 - val_corr:0.0666\n",
      "Train on 81363 samples, validate on 10676 samples\n",
      "Epoch 28/28\n",
      "81363/81363 [==============================] - 54s 666us/step - loss: 0.3898 - val_loss: 0.4272\n",
      "81363/81363 [==============================] - 217s 3ms/step\n",
      "10676/10676 [==============================] - 30s 3ms/step\n",
      "time:5.02m - train_corr:0.1514 - val_corr:0.0463\n",
      "Train on 81363 samples, validate on 10676 samples\n",
      "Epoch 29/29\n",
      "81363/81363 [==============================] - 53s 652us/step - loss: 0.3903 - val_loss: 0.4494\n",
      "81363/81363 [==============================] - 217s 3ms/step\n",
      "10676/10676 [==============================] - 30s 3ms/step\n",
      "time:5.01m - train_corr:0.1492 - val_corr:0.0720\n",
      "Train on 81363 samples, validate on 10676 samples\n",
      "Epoch 30/30\n",
      "81363/81363 [==============================] - 56s 687us/step - loss: 0.3888 - val_loss: 0.4211\n",
      "81363/81363 [==============================] - 220s 3ms/step\n",
      "10676/10676 [==============================] - 30s 3ms/step\n",
      "time:5.09m - train_corr:0.1543 - val_corr:0.0633\n",
      "Train on 81363 samples, validate on 10676 samples\n",
      "Epoch 31/31\n",
      "81363/81363 [==============================] - 55s 674us/step - loss: 0.3883 - val_loss: 0.4430\n",
      "81363/81363 [==============================] - 217s 3ms/step\n",
      "10676/10676 [==============================] - 31s 3ms/step\n",
      "time:5.04m - train_corr:0.1455 - val_corr:0.0785\n",
      "Train on 81363 samples, validate on 10676 samples\n",
      "Epoch 32/32\n",
      "81363/81363 [==============================] - 55s 676us/step - loss: 0.3884 - val_loss: 0.4433\n",
      "81363/81363 [==============================] - 217s 3ms/step\n",
      "10676/10676 [==============================] - 29s 3ms/step\n",
      "time:5.02m - train_corr:0.1613 - val_corr:0.0580\n",
      "Train on 81363 samples, validate on 10676 samples\n",
      "Epoch 33/33\n",
      "81363/81363 [==============================] - 54s 665us/step - loss: 0.3878 - val_loss: 0.4982\n",
      "81363/81363 [==============================] - 219s 3ms/step\n",
      "10676/10676 [==============================] - 30s 3ms/step\n",
      "time:5.04m - train_corr:0.1441 - val_corr:0.0773\n",
      "Train on 81363 samples, validate on 10676 samples\n",
      "Epoch 34/34\n",
      "81363/81363 [==============================] - 54s 661us/step - loss: 0.3870 - val_loss: 0.4377\n",
      "81363/81363 [==============================] - 216s 3ms/step\n",
      "10676/10676 [==============================] - 30s 3ms/step\n",
      "time:5.01m - train_corr:0.1325 - val_corr:0.0862\n",
      "Train on 81363 samples, validate on 10676 samples\n",
      "Epoch 35/35\n",
      "81363/81363 [==============================] - 55s 676us/step - loss: 0.3876 - val_loss: 0.4574\n",
      "81363/81363 [==============================] - 218s 3ms/step\n",
      "10676/10676 [==============================] - 29s 3ms/step\n",
      "time:5.04m - train_corr:0.1604 - val_corr:0.0679\n",
      "Train on 81363 samples, validate on 10676 samples\n",
      "Epoch 36/36\n",
      "81363/81363 [==============================] - 54s 662us/step - loss: 0.3864 - val_loss: 0.5183\n",
      "81363/81363 [==============================] - 218s 3ms/step\n",
      "10676/10676 [==============================] - 29s 3ms/step\n",
      "time:5.02m - train_corr:0.1154 - val_corr:0.0150\n",
      "Train on 81363 samples, validate on 10676 samples\n",
      "Epoch 37/37\n",
      "81363/81363 [==============================] - 55s 675us/step - loss: 0.3857 - val_loss: 0.4663\n",
      "81363/81363 [==============================] - 216s 3ms/step\n",
      "10676/10676 [==============================] - 29s 3ms/step\n",
      "time:5.00m - train_corr:0.1646 - val_corr:0.0715\n",
      "Train on 81363 samples, validate on 10676 samples\n",
      "Epoch 38/38\n",
      "81363/81363 [==============================] - 54s 658us/step - loss: 0.3853 - val_loss: 0.4802\n",
      "81363/81363 [==============================] - 218s 3ms/step\n",
      "10676/10676 [==============================] - 30s 3ms/step\n",
      "time:5.04m - train_corr:0.1528 - val_corr:0.0346\n",
      "Train on 81363 samples, validate on 10676 samples\n",
      "Epoch 39/39\n",
      "81363/81363 [==============================] - 54s 667us/step - loss: 0.3840 - val_loss: 0.5073\n",
      "81363/81363 [==============================] - 218s 3ms/step\n",
      "10676/10676 [==============================] - 30s 3ms/step\n",
      "time:5.03m - train_corr:0.1172 - val_corr:0.0812\n",
      "Train on 81363 samples, validate on 10676 samples\n",
      "Epoch 40/40\n",
      "81363/81363 [==============================] - 54s 666us/step - loss: 0.3847 - val_loss: 0.5054\n",
      "81363/81363 [==============================] - 216s 3ms/step\n",
      "10676/10676 [==============================] - 30s 3ms/step\n",
      "time:5.01m - train_corr:0.1470 - val_corr:0.0767\n",
      "Train on 81363 samples, validate on 10676 samples\n",
      "Epoch 41/41\n",
      "81363/81363 [==============================] - 53s 651us/step - loss: 0.3844 - val_loss: 0.5541\n",
      "81363/81363 [==============================] - 217s 3ms/step\n",
      "10676/10676 [==============================] - 30s 3ms/step\n",
      "time:4.99m - train_corr:0.1409 - val_corr:0.0729\n",
      "Train on 81363 samples, validate on 10676 samples\n",
      "Epoch 42/42\n",
      "81363/81363 [==============================] - 55s 672us/step - loss: 0.3829 - val_loss: 0.5966\n",
      "81363/81363 [==============================] - 217s 3ms/step\n",
      "10676/10676 [==============================] - 29s 3ms/step\n",
      "time:5.00m - train_corr:0.1727 - val_corr:0.0582\n",
      "Train on 81363 samples, validate on 10676 samples\n",
      "Epoch 43/43\n",
      "81363/81363 [==============================] - 56s 682us/step - loss: 0.3829 - val_loss: 0.5341\n",
      "81363/81363 [==============================] - 217s 3ms/step\n",
      "10676/10676 [==============================] - 29s 3ms/step\n",
      "time:5.02m - train_corr:0.1695 - val_corr:0.0455\n",
      "Train on 81363 samples, validate on 10676 samples\n",
      "Epoch 44/44\n",
      "81363/81363 [==============================] - 53s 657us/step - loss: 0.3831 - val_loss: 0.5582\n",
      "81363/81363 [==============================] - 216s 3ms/step\n",
      "10676/10676 [==============================] - 30s 3ms/step\n",
      "time:4.99m - train_corr:0.1599 - val_corr:0.0244\n",
      "Train on 81363 samples, validate on 10676 samples\n",
      "Epoch 45/45\n",
      "81363/81363 [==============================] - 53s 649us/step - loss: 0.3817 - val_loss: 0.5881\n",
      "81363/81363 [==============================] - 217s 3ms/step\n",
      "10676/10676 [==============================] - 29s 3ms/step\n",
      "time:4.98m - train_corr:0.1590 - val_corr:0.0801\n",
      "Train on 81363 samples, validate on 10676 samples\n",
      "Epoch 46/46\n",
      "81363/81363 [==============================] - 55s 672us/step - loss: 0.3825 - val_loss: 0.5845\n",
      "81363/81363 [==============================] - 217s 3ms/step\n",
      "10676/10676 [==============================] - 29s 3ms/step\n",
      "time:5.01m - train_corr:0.1725 - val_corr:0.0689\n",
      "Train on 81363 samples, validate on 10676 samples\n",
      "Epoch 47/47\n",
      "81363/81363 [==============================] - 53s 656us/step - loss: 0.3820 - val_loss: 0.5384\n",
      "81363/81363 [==============================] - 214s 3ms/step\n",
      "10676/10676 [==============================] - 29s 3ms/step\n",
      "time:4.95m - train_corr:0.1267 - val_corr:0.0720\n",
      "Train on 81363 samples, validate on 10676 samples\n",
      "Epoch 48/48\n",
      "81363/81363 [==============================] - 54s 662us/step - loss: 0.3814 - val_loss: 0.5581\n",
      "81363/81363 [==============================] - 217s 3ms/step\n",
      "10676/10676 [==============================] - 30s 3ms/step\n",
      "time:5.01m - train_corr:0.1414 - val_corr:0.0726\n",
      "Train on 81363 samples, validate on 10676 samples\n",
      "Epoch 49/49\n",
      "81363/81363 [==============================] - 53s 657us/step - loss: 0.3818 - val_loss: 0.5145\n",
      "81363/81363 [==============================] - 217s 3ms/step\n",
      "10676/10676 [==============================] - 29s 3ms/step\n",
      "time:4.99m - train_corr:0.1533 - val_corr:0.0292\n",
      "Train on 81363 samples, validate on 10676 samples\n",
      "Epoch 50/50\n",
      "81363/81363 [==============================] - 54s 665us/step - loss: 0.3808 - val_loss: 0.4924\n",
      "81363/81363 [==============================] - 215s 3ms/step\n",
      "10676/10676 [==============================] - 30s 3ms/step\n",
      "time:4.98m - train_corr:0.1667 - val_corr:0.0554\n",
      "Finish Training\n"
     ]
    }
   ],
   "source": [
    "train_loss_list = []\n",
    "val_loss_list = []\n",
    "train_corr_list = []\n",
    "val_corr_list = []\n",
    "print('All Epochs:', EPOCHS)\n",
    "for epoch in range(EPOCHS):\n",
    "    #exp = Experiment('Spotify CNN')\n",
    "    #hd_callback = Hyperdash(['loss', 'val_loss'], exp)\n",
    "    start = time.time()\n",
    "    history = model.fit(x=x_train, y=y_train, batch_size=BATCH_SIZE, epochs=epoch+1, verbose=1, \n",
    "        callbacks=None, validation_data=(x_val,y_val), shuffle=True, initial_epoch=epoch)\n",
    "    train_loss_list.append(history.history['loss'][0])\n",
    "    val_loss_list.append(history.history['val_loss'][0])\n",
    "    \n",
    "    predict_train = model.predict(x_train, batch_size=1, verbose=1)\n",
    "    train_correlation_coefficient = spearmanr(predict_train.flatten(), y_train)[0]\n",
    "    predict_val = model.predict(x_val, batch_size=1, verbose=1)\n",
    "    val_correlation_coefficient = spearmanr(predict_val.flatten(), y_val)[0]\n",
    "    \n",
    "    if epoch+1 >= 10: \n",
    "        if val_correlation_coefficient > max(val_corr_list):\n",
    "            model.save_weights(os.path.join(RESULT_DIR, 'epoch'+str(epoch+1)+'_'+WEIGHT_FILE))\n",
    "   \n",
    "    train_corr_list.append(train_correlation_coefficient)\n",
    "    val_corr_list.append(val_correlation_coefficient)\n",
    "    \n",
    "    end = time.time()\n",
    "    print('time:%.2fm - train_corr:%.4f - val_corr:%.4f' % ((end - start) / 60, train_correlation_coefficient, val_correlation_coefficient))\n",
    "               \n",
    "#exp.end()\n",
    "print('Finish Training')"
   ]
  },
  {
   "cell_type": "code",
   "execution_count": 21,
   "metadata": {
    "collapsed": true
   },
   "outputs": [
    {
     "data": {
      "image/png": "[encoded data removed]",
      "text/plain": [
       "<Figure size 432x288 with 1 Axes>"
      ]
     },
     "metadata": {},
     "output_type": "display_data"
    },
    {
     "data": {
      "image/png": "[encoded data removed]",
      "text/plain": [
       "<Figure size 432x288 with 1 Axes>"
      ]
     },
     "metadata": {},
     "output_type": "display_data"
    },
    {
     "data": {
      "image/png": "[encoded data removed]",
      "text/plain": [
       "<Figure size 432x288 with 1 Axes>"
      ]
     },
     "metadata": {},
     "output_type": "display_data"
    },
    {
     "data": {
      "image/png": "[encoded data removed]",
      "text/plain": [
       "<Figure size 432x288 with 1 Axes>"
      ]
     },
     "metadata": {},
     "output_type": "display_data"
    }
   ],
   "source": [
    "create_loss_curve(train_loss_list, val_loss_list)\n",
    "create_correlationcoefficient_curve(train_corr_list, val_corr_list,EPOCHS)\n",
    "create_scatter_plot(train_correlation_coefficient, predict_train.flatten(), y_train, 'train')\n",
    "create_scatter_plot(val_correlation_coefficient, predict_val.flatten(), y_val, 'val')"
   ]
  },
  {
   "cell_type": "code",
   "execution_count": null,
   "metadata": {},
   "outputs": [],
   "source": []
  },
  {
   "cell_type": "code",
   "execution_count": null,
   "metadata": {},
   "outputs": [],
   "source": []
  },
  {
   "cell_type": "code",
   "execution_count": null,
   "metadata": {
    "collapsed": true
   },
   "outputs": [],
   "source": []
  },
  {
   "cell_type": "markdown",
   "metadata": {},
   "source": [
    "## Test"
   ]
  },
  {
   "cell_type": "code",
   "execution_count": 22,
   "metadata": {},
   "outputs": [
    {
     "name": "stdout",
     "output_type": "stream",
     "text": [
      "10922/10922 [==============================] - 29s 3ms/step\n"
     ]
    },
    {
     "data": {
      "image/png": "[encoded data removed]",
      "text/plain": [
       "<Figure size 432x288 with 1 Axes>"
      ]
     },
     "metadata": {},
     "output_type": "display_data"
    }
   ],
   "source": [
    "predict_test = model.predict(x_test, batch_size=1, verbose=1)\n",
    "test_correlation_coefficient = spearmanr(predict_test.flatten(), y_test)[0]\n",
    "create_scatter_plot(test_correlation_coefficient, predict_test.flatten(), y_test, 'test')"
   ]
  },
  {
   "cell_type": "code",
   "execution_count": null,
   "metadata": {
    "collapsed": true
   },
   "outputs": [],
   "source": []
  },
  {
   "cell_type": "code",
   "execution_count": null,
   "metadata": {
    "collapsed": true
   },
   "outputs": [],
   "source": []
  },
  {
   "cell_type": "code",
   "execution_count": null,
   "metadata": {
    "collapsed": true
   },
   "outputs": [],
   "source": []
  },
  {
   "cell_type": "markdown",
   "metadata": {},
   "source": [
    "## Save File"
   ]
  },
  {
   "cell_type": "code",
   "execution_count": 23,
   "metadata": {
    "collapsed": true
   },
   "outputs": [],
   "source": [
    "#from keras.models import load_model\n",
    "#model.save('my_model.h5')\n",
    "#mymodel = load_model('my_model.h5')\n",
    "model.save_weights(os.path.join(RESULT_DIR, WEIGHT_FILE))"
   ]
  },
  {
   "cell_type": "code",
   "execution_count": 24,
   "metadata": {
    "collapsed": true
   },
   "outputs": [],
   "source": [
    "pd.DataFrame(train_loss_list, columns=['train_loss']).to_csv(RESULT_DIR+'train_loss.csv',index=None)\n",
    "pd.DataFrame(val_loss_list, columns=['val_loss']).to_csv(RESULT_DIR+'val_loss.csv',index=None)\n",
    "pd.DataFrame(train_corr_list, columns=['train_corr']).to_csv(RESULT_DIR+'train_corr.csv',index=None)\n",
    "pd.DataFrame(val_corr_list, columns=['val_corr']).to_csv(RESULT_DIR+'val_corr.csv',index=None)"
   ]
  },
  {
   "cell_type": "code",
   "execution_count": 25,
   "metadata": {
    "collapsed": true
   },
   "outputs": [
    {
     "data": {
      "text/plain": [
       "[None]"
      ]
     },
     "execution_count": 25,
     "metadata": {},
     "output_type": "execute_result"
    }
   ],
   "source": [
    "now = datetime.now()\n",
    "copy_dir = 'results_'+model_name+'_'+label_name+'_'+use_optimizer+ str(LEARNING_RATE)+'_BS'+str(BATCH_SIZE)+'_Ep0-' + str(EPOCHS)+now.strftime('_%Y-%m-%d_%H:%M ')\n",
    "if not os.path.exists(copy_dir):\n",
    "    shutil.copytree(RESULT_DIR, copy_dir)\n",
    "[os.remove(f) for f in glob.glob(RESULT_DIR+'*_weights.h5')]"
   ]
  },
  {
   "cell_type": "code",
   "execution_count": null,
   "metadata": {
    "collapsed": true
   },
   "outputs": [],
   "source": []
  },
  {
   "cell_type": "code",
   "execution_count": null,
   "metadata": {
    "collapsed": true
   },
   "outputs": [],
   "source": []
  },
  {
   "cell_type": "code",
   "execution_count": null,
   "metadata": {
    "collapsed": true
   },
   "outputs": [],
   "source": []
  },
  {
   "cell_type": "markdown",
   "metadata": {},
   "source": [
    "## Delete variable"
   ]
  },
  {
   "cell_type": "code",
   "execution_count": 26,
   "metadata": {
    "collapsed": true
   },
   "outputs": [
    {
     "name": "stdout",
     "output_type": "stream",
     "text": [
      "|            Variable Name|    Memory|\n",
      " ------------------------------------ \n",
      "|                 features| 442495272|\n",
      "|                   labels|   6948072|\n",
      "|               labels_log|   6948072|\n",
      "|              listens_log|    852680|\n",
      "|             predict_test|     43800|\n",
      "|            predict_train|    325564|\n",
      "|              predict_val|     42816|\n",
      "|                   subset|    852616|\n",
      "|          test_data_index|     90128|\n",
      "|           test_subscript|     87472|\n",
      "|                   tracks| 188347896|\n",
      "|         train_data_index|    674848|\n",
      "|          train_subscript|    651000|\n",
      "|           val_data_index|     87688|\n",
      "|            val_subscript|     85504|\n",
      "|                   x_test|2932862944|\n",
      "|                  x_train|21848243792|\n",
      "|                    x_val|2866805056|\n",
      "|                   y_test|     87472|\n",
      "|                  y_train|    651000|\n",
      "|                    y_val|     85504|\n"
     ]
    }
   ],
   "source": [
    "import sys\n",
    "\n",
    "print(\"{}{: >25}{}{: >10}{}\".format('|','Variable Name','|','Memory','|'))\n",
    "print(\" ------------------------------------ \")\n",
    "for var_name in dir():\n",
    "    if not var_name.startswith(\"_\") and sys.getsizeof(eval(var_name)) > 10000:\n",
    "        print(\"{}{: >25}{}{: >10}{}\".format('|',var_name,'|',sys.getsizeof(eval(var_name)),'|'))"
   ]
  },
  {
   "cell_type": "code",
   "execution_count": 27,
   "metadata": {
    "collapsed": true
   },
   "outputs": [
    {
     "data": {
      "text/plain": [
       "22361"
      ]
     },
     "execution_count": 27,
     "metadata": {},
     "output_type": "execute_result"
    }
   ],
   "source": [
    "import gc\n",
    "del features, tracks\n",
    "gc.collect()"
   ]
  },
  {
   "cell_type": "code",
   "execution_count": null,
   "metadata": {
    "collapsed": true
   },
   "outputs": [],
   "source": []
  },
  {
   "cell_type": "code",
   "execution_count": null,
   "metadata": {
    "collapsed": true
   },
   "outputs": [],
   "source": []
  }
 ],
 "metadata": {
  "kernelspec": {
   "display_name": "Python 3",
   "language": "python",
   "name": "python3"
  },
  "language_info": {
   "codemirror_mode": {
    "name": "ipython",
    "version": 3
   },
   "file_extension": ".py",
   "mimetype": "text/x-python",
   "name": "python",
   "nbconvert_exporter": "python",
   "pygments_lexer": "ipython3",
   "version": "3.6.1"
  }
 },
 "nbformat": 4,
 "nbformat_minor": 2
}
